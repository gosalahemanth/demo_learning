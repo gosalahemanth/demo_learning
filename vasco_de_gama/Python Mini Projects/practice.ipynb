{
 "cells": [
  {
   "cell_type": "code",
   "execution_count": null,
   "id": "873250b5-fa43-41e6-807b-bd4db7e8bb90",
   "metadata": {},
   "outputs": [],
   "source": [
    "principal_amount=int(input(\"enter amount:\"))\n",
    "time=int(input(\"enter time:\"))\n",
    "rate=int(input(\"enter rate:\"))        \n",
    "simple_interest=(principal_amount*time*rate)/100\n",
    "print(simple_interest,\"is simple interest\")"
   ]
  },
  {
   "cell_type": "code",
   "execution_count": null,
   "id": "43e3e6fd-b773-4dd7-91bd-d232ebb674f8",
   "metadata": {},
   "outputs": [],
   "source": []
  }
 ],
 "metadata": {
  "kernelspec": {
   "display_name": "Python [conda env:base] *",
   "language": "python",
   "name": "conda-base-py"
  },
  "language_info": {
   "codemirror_mode": {
    "name": "ipython",
    "version": 3
   },
   "file_extension": ".py",
   "mimetype": "text/x-python",
   "name": "python",
   "nbconvert_exporter": "python",
   "pygments_lexer": "ipython3",
   "version": "3.13.5"
  }
 },
 "nbformat": 4,
 "nbformat_minor": 5
}
